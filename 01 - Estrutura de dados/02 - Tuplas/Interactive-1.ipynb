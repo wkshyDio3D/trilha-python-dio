{
 "cells": [
  {
   "cell_type": "code",
   "execution_count": null,
   "id": "adf924cc-8c35-4c68-b822-dd8ce8f179c4",
   "metadata": {},
   "outputs": [
    {
     "name": "stdout",
     "output_type": "stream",
     "text": [
      "('laranja', 'pera', 'uva')\n",
      "('p', 'y', 't', 'h', 'o', 'n')\n",
      "(1, 2, 3, 4)\n",
      "('Brasil',)\n"
     ]
    }
   ],
   "source": [
    "# Conhecendo Tuplas em python \n",
    "# \n",
    "# A Irma da lista - Entender o funcionamento e a estrutura de dados tuplas.\n",
    "# Metodos e onde se utiliza a tupla. \n",
    "# Difernte da lista que e Mutavel a tupla e \"imutavel\" . Ou seja seus valores\n",
    "#  nao podem ser auterados depois de criados .\n",
    "# \n",
    "# Podemos criar tuplas atraveis da classe TUPLE, ou colocando valores separados\n",
    "#  por virgulas de parenteses.\n",
    "# Declarando Tuplas ou Criando Tuplas\n",
    "\n",
    "frutas = (\n",
    "    \"laranja\",\n",
    "    \"pera\",\n",
    "    \"uva\",\n",
    ")\n",
    "print(frutas)\n",
    "\n",
    "letras = tuple(\"python\")\n",
    "print(letras)\n",
    "\n",
    "numeros = tuple([1, 2, 3, 4])\n",
    "print(numeros)\n",
    "\n",
    "pais = (\"Brasil\",)\n",
    "print(pais)"
   ]
  }
 ],
 "metadata": {
  "kernelspec": {
   "display_name": "Python 3",
   "language": "python",
   "name": "python3"
  },
  "language_info": {
   "name": "python",
   "version": "3.13.2"
  }
 },
 "nbformat": 4,
 "nbformat_minor": 5
}
